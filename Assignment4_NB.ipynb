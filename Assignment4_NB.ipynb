{
 "cells": [
  {
   "cell_type": "code",
   "execution_count": 44,
   "metadata": {},
   "outputs": [],
   "source": [
    "# Importing libraries required for the assignments\n",
    "%matplotlib inline\n",
    "import warnings\n",
    "warnings.filterwarnings(\"ignore\")\n",
    "import pickle\n",
    "import pprint\n",
    "\n",
    "import sqlite3\n",
    "import pandas as pd\n",
    "import numpy as np\n",
    "import nltk\n",
    "import prettytable\n",
    "\n",
    "import re\n",
    "from wordcloud import WordCloud\n",
    "import pickle\n",
    "from nltk.corpus import stopwords\n",
    "from sklearn.feature_extraction.text import CountVectorizer\n",
    "import seaborn as sns\n",
    "import matplotlib.pyplot as plt \n",
    "\n",
    "from sklearn.feature_extraction.text import TfidfVectorizer\n",
    "from gensim.models import Word2Vec\n",
    "\n",
    "#from sklearn.neighbors import KNeighborsClassifier\n",
    "from sklearn import cross_validation\n",
    "from sklearn.metrics import accuracy_score\n",
    "from sklearn.cross_validation import train_test_split\n",
    "from sklearn.metrics import confusion_matrix,f1_score,make_scorer\n",
    "from sklearn.model_selection import cross_val_score\n",
    "from sklearn.metrics import classification_report\n",
    "from sklearn.naive_bayes import MultinomialNB,BernoulliNB,GaussianNB\n",
    "#from sklearn.decomposition import TruncatedSVD"
   ]
  },
  {
   "cell_type": "code",
   "execution_count": 2,
   "metadata": {
    "collapsed": true
   },
   "outputs": [],
   "source": [
    "pkl_file = open('data1.pkl', 'rb')\n",
    "filtered_data = pickle.load(pkl_file)\n",
    "#pprint.pprint(filtered_data)\n",
    "pkl_file.close()"
   ]
  },
  {
   "cell_type": "code",
   "execution_count": 3,
   "metadata": {
    "scrolled": false
   },
   "outputs": [
    {
     "data": {
      "text/plain": [
       "Index(['ProductId', 'UserId', 'ProfileName', 'HelpfulnessNumerator',\n",
       "       'HelpfulnessDenominator', 'Time', 'Summary', 'Text', 'Sentiment',\n",
       "       'CleanedText'],\n",
       "      dtype='object')"
      ]
     },
     "execution_count": 3,
     "metadata": {},
     "output_type": "execute_result"
    }
   ],
   "source": [
    "# Checking columns present in data\n",
    "\n",
    "filtered_data.columns"
   ]
  },
  {
   "cell_type": "code",
   "execution_count": 4,
   "metadata": {
    "collapsed": true
   },
   "outputs": [],
   "source": [
    "# Time base sorting\n",
    "\n",
    "filtered_data.sort_values('Time',inplace=True)"
   ]
  },
  {
   "cell_type": "code",
   "execution_count": 5,
   "metadata": {
    "collapsed": true
   },
   "outputs": [],
   "source": [
    "# Filtering only 100K data points for this assignments\n",
    "\n",
    "filtered_100k=filtered_data.iloc[:100000,:]"
   ]
  },
  {
   "cell_type": "code",
   "execution_count": 6,
   "metadata": {},
   "outputs": [
    {
     "data": {
      "text/plain": [
       "61682     948672000\n",
       "1130      961718400\n",
       "1129      962236800\n",
       "26503    1067040000\n",
       "26502    1067040000\n",
       "54376    1067472000\n",
       "35508    1067558400\n",
       "35655    1067644800\n",
       "35654    1067904000\n",
       "10388    1067990400\n",
       "82577    1068076800\n",
       "26501    1068076800\n",
       "81533    1068422400\n",
       "55130    1068940800\n",
       "98503    1069027200\n",
       "75316    1069113600\n",
       "36417    1069459200\n",
       "44110    1070668800\n",
       "22710    1071100800\n",
       "74752    1071705600\n",
       "Name: Time, dtype: int64"
      ]
     },
     "execution_count": 6,
     "metadata": {},
     "output_type": "execute_result"
    }
   ],
   "source": [
    "filtered_100k.Time.head(20)"
   ]
  },
  {
   "cell_type": "code",
   "execution_count": 7,
   "metadata": {
    "collapsed": true
   },
   "outputs": [],
   "source": [
    "filtered_100k.reset_index(inplace=True)"
   ]
  },
  {
   "cell_type": "code",
   "execution_count": 8,
   "metadata": {
    "collapsed": true
   },
   "outputs": [],
   "source": [
    "label=filtered_100k.Sentiment"
   ]
  },
  {
   "cell_type": "code",
   "execution_count": 9,
   "metadata": {
    "collapsed": true
   },
   "outputs": [],
   "source": [
    "# Dropping target column\n",
    "filtered_100k.drop('Sentiment',axis=1,inplace=True)"
   ]
  },
  {
   "cell_type": "code",
   "execution_count": 10,
   "metadata": {
    "collapsed": true
   },
   "outputs": [],
   "source": [
    "# Creating new label from reviews\n",
    "\n",
    "filtered_100k['Tex_len']=filtered_100k.CleanedText.apply(lambda x:len(x.split(\" \")))"
   ]
  },
  {
   "cell_type": "code",
   "execution_count": 11,
   "metadata": {},
   "outputs": [
    {
     "data": {
      "text/plain": [
       "0    28\n",
       "1    17\n",
       "2    36\n",
       "3    10\n",
       "4    15\n",
       "Name: Tex_len, dtype: int64"
      ]
     },
     "execution_count": 11,
     "metadata": {},
     "output_type": "execute_result"
    }
   ],
   "source": [
    "filtered_100k.Tex_len.head()"
   ]
  },
  {
   "cell_type": "code",
   "execution_count": 12,
   "metadata": {
    "collapsed": true
   },
   "outputs": [],
   "source": [
    "filtered_100k.drop('index',axis=1,inplace=True)"
   ]
  },
  {
   "cell_type": "code",
   "execution_count": 13,
   "metadata": {},
   "outputs": [
    {
     "data": {
      "text/html": [
       "<div>\n",
       "<style>\n",
       "    .dataframe thead tr:only-child th {\n",
       "        text-align: right;\n",
       "    }\n",
       "\n",
       "    .dataframe thead th {\n",
       "        text-align: left;\n",
       "    }\n",
       "\n",
       "    .dataframe tbody tr th {\n",
       "        vertical-align: top;\n",
       "    }\n",
       "</style>\n",
       "<table border=\"1\" class=\"dataframe\">\n",
       "  <thead>\n",
       "    <tr style=\"text-align: right;\">\n",
       "      <th></th>\n",
       "      <th>ProductId</th>\n",
       "      <th>UserId</th>\n",
       "      <th>ProfileName</th>\n",
       "      <th>HelpfulnessNumerator</th>\n",
       "      <th>HelpfulnessDenominator</th>\n",
       "      <th>Time</th>\n",
       "      <th>Summary</th>\n",
       "      <th>Text</th>\n",
       "      <th>CleanedText</th>\n",
       "      <th>Tex_len</th>\n",
       "    </tr>\n",
       "  </thead>\n",
       "  <tbody>\n",
       "    <tr>\n",
       "      <th>0</th>\n",
       "      <td>B00002N8SM</td>\n",
       "      <td>A32DW342WBJ6BX</td>\n",
       "      <td>Buttersugar</td>\n",
       "      <td>0</td>\n",
       "      <td>0</td>\n",
       "      <td>948672000</td>\n",
       "      <td>A sure death for flies</td>\n",
       "      <td>I bought a few of these after my apartment was...</td>\n",
       "      <td>bought apart infest fruit fli hour trap mani f...</td>\n",
       "      <td>28</td>\n",
       "    </tr>\n",
       "    <tr>\n",
       "      <th>1</th>\n",
       "      <td>B00002Z754</td>\n",
       "      <td>A29Z5PI9BW2PU3</td>\n",
       "      <td>Robbie</td>\n",
       "      <td>7</td>\n",
       "      <td>7</td>\n",
       "      <td>961718400</td>\n",
       "      <td>Great Product</td>\n",
       "      <td>This was a really good idea and the final prod...</td>\n",
       "      <td>realli good idea final product outstand use de...</td>\n",
       "      <td>17</td>\n",
       "    </tr>\n",
       "    <tr>\n",
       "      <th>2</th>\n",
       "      <td>B00002Z754</td>\n",
       "      <td>A3B8RCEI0FXFI6</td>\n",
       "      <td>B G Chase</td>\n",
       "      <td>10</td>\n",
       "      <td>10</td>\n",
       "      <td>962236800</td>\n",
       "      <td>WOW Make your own 'slickers' !</td>\n",
       "      <td>I just received my shipment and could hardly w...</td>\n",
       "      <td>receiv shipment could hard wait tri product lo...</td>\n",
       "      <td>36</td>\n",
       "    </tr>\n",
       "    <tr>\n",
       "      <th>3</th>\n",
       "      <td>B00008RCMI</td>\n",
       "      <td>A284C7M23F0APC</td>\n",
       "      <td>A. Mendoza</td>\n",
       "      <td>0</td>\n",
       "      <td>0</td>\n",
       "      <td>1067040000</td>\n",
       "      <td>Best sugarless gum ever!</td>\n",
       "      <td>I love this stuff. It is sugar-free so it does...</td>\n",
       "      <td>love stuff rot gum tast good go buy gum get</td>\n",
       "      <td>10</td>\n",
       "    </tr>\n",
       "    <tr>\n",
       "      <th>4</th>\n",
       "      <td>B00008RCMI</td>\n",
       "      <td>A19E94CF5O1LY7</td>\n",
       "      <td>Andrew Arnold</td>\n",
       "      <td>0</td>\n",
       "      <td>0</td>\n",
       "      <td>1067040000</td>\n",
       "      <td>I've chewed this gum many times, but used?</td>\n",
       "      <td>Nothing against the product, but it does bothe...</td>\n",
       "      <td>noth product bother link top page buy use chew...</td>\n",
       "      <td>15</td>\n",
       "    </tr>\n",
       "  </tbody>\n",
       "</table>\n",
       "</div>"
      ],
      "text/plain": [
       "    ProductId          UserId    ProfileName  HelpfulnessNumerator  \\\n",
       "0  B00002N8SM  A32DW342WBJ6BX    Buttersugar                     0   \n",
       "1  B00002Z754  A29Z5PI9BW2PU3         Robbie                     7   \n",
       "2  B00002Z754  A3B8RCEI0FXFI6      B G Chase                    10   \n",
       "3  B00008RCMI  A284C7M23F0APC     A. Mendoza                     0   \n",
       "4  B00008RCMI  A19E94CF5O1LY7  Andrew Arnold                     0   \n",
       "\n",
       "   HelpfulnessDenominator        Time  \\\n",
       "0                       0   948672000   \n",
       "1                       7   961718400   \n",
       "2                      10   962236800   \n",
       "3                       0  1067040000   \n",
       "4                       0  1067040000   \n",
       "\n",
       "                                      Summary  \\\n",
       "0                      A sure death for flies   \n",
       "1                               Great Product   \n",
       "2              WOW Make your own 'slickers' !   \n",
       "3                    Best sugarless gum ever!   \n",
       "4  I've chewed this gum many times, but used?   \n",
       "\n",
       "                                                Text  \\\n",
       "0  I bought a few of these after my apartment was...   \n",
       "1  This was a really good idea and the final prod...   \n",
       "2  I just received my shipment and could hardly w...   \n",
       "3  I love this stuff. It is sugar-free so it does...   \n",
       "4  Nothing against the product, but it does bothe...   \n",
       "\n",
       "                                         CleanedText  Tex_len  \n",
       "0  bought apart infest fruit fli hour trap mani f...       28  \n",
       "1  realli good idea final product outstand use de...       17  \n",
       "2  receiv shipment could hard wait tri product lo...       36  \n",
       "3        love stuff rot gum tast good go buy gum get       10  \n",
       "4  noth product bother link top page buy use chew...       15  "
      ]
     },
     "execution_count": 13,
     "metadata": {},
     "output_type": "execute_result"
    }
   ],
   "source": [
    "filtered_100k.head()"
   ]
  },
  {
   "cell_type": "markdown",
   "metadata": {},
   "source": [
    "### Multinomial Naive Baye's"
   ]
  },
  {
   "cell_type": "code",
   "execution_count": 14,
   "metadata": {
    "collapsed": true
   },
   "outputs": [],
   "source": [
    "X_1, X_test, y_1, y_test = train_test_split(filtered_100k, label, test_size=0.2, random_state=50)\n",
    "X_tr, X_cv, y_tr, y_cv = train_test_split(X_1,y_1, test_size=0.25, random_state=50)"
   ]
  },
  {
   "cell_type": "code",
   "execution_count": 15,
   "metadata": {},
   "outputs": [
    {
     "name": "stdout",
     "output_type": "stream",
     "text": [
      "(80000, 10) 80000\n",
      "(60000, 10) 60000\n",
      "(20000, 10) 60000\n"
     ]
    }
   ],
   "source": [
    "print(X_1.shape,len(y_1))\n",
    "print(X_tr.shape,len(y_tr))\n",
    "print(X_test.shape,len(y_tr))"
   ]
  },
  {
   "cell_type": "markdown",
   "metadata": {},
   "source": [
    "### Bag Of Words"
   ]
  },
  {
   "cell_type": "code",
   "execution_count": 16,
   "metadata": {
    "collapsed": true
   },
   "outputs": [],
   "source": [
    "count_vector=CountVectorizer(ngram_range=(1,2))\n",
    "vocab=count_vector.fit(X_tr.CleanedText)\n",
    "\n",
    "bow_train=count_vector.transform(X_tr.CleanedText)\n",
    "bow_cv=count_vector.transform(X_cv.CleanedText)\n",
    "bow_test=count_vector.transform(X_test.CleanedText)"
   ]
  },
  {
   "cell_type": "code",
   "execution_count": 17,
   "metadata": {},
   "outputs": [
    {
     "name": "stdout",
     "output_type": "stream",
     "text": [
      "(60000, 837824)\n",
      "(20000, 837824)\n",
      "(20000, 837824)\n"
     ]
    }
   ],
   "source": [
    "print(bow_train.get_shape())\n",
    "print(bow_cv.get_shape())\n",
    "print(bow_test.get_shape())"
   ]
  },
  {
   "cell_type": "code",
   "execution_count": 37,
   "metadata": {
    "collapsed": true
   },
   "outputs": [],
   "source": [
    "# Creating summary table to store summary of models\n",
    "summary_table = prettytable.PrettyTable([\"Method\",\"Model\",\"Optimam alpha\", \"F-1 Score\"])\n",
    "\n",
    "# defining fait method and validation methods \n",
    "def fit_and_val(X_train,y_train,X_cv,y_cv,X_test,y_test,method,table=summary_table):\n",
    "    \n",
    "#    nbrs_list=np.arange(0.05,.5,0.05)\n",
    "    nbrs_list=[0.0001,0.001,0.01,0.1,1,10,100]\n",
    "    cv_scores=[]\n",
    "# Fitting model\n",
    "    scorer=make_scorer(f1_score,average='weighted')\n",
    "\n",
    "    for Alpha in nbrs_list:\n",
    "        model=MultinomialNB(alpha=Alpha)\n",
    "        model.fit(X_train,y_train)\n",
    "        pred = model.predict(X_cv)\n",
    "#        f1_score(y_pred=pred,y_true=y_cv,pos_label='Positive')\n",
    "\n",
    "\n",
    "# validating model using CV method\n",
    "\n",
    "        \n",
    "        scores=cross_val_score(estimator=model,X=X_cv,y=y_cv,cv=5,scoring=scorer)\n",
    "       \n",
    "        print(\"\\nFor alpha = {:.4f}\".format(Alpha))\n",
    "        print (\"\\nmodel accuracy is {:.4f}  %\".format(np.average(scores)*100))\n",
    "        cv_scores.append(np.average(scores))\n",
    "        \n",
    "#Picking optimal value of alha having minimum error\n",
    "\n",
    "\n",
    "    MSE = [1 - x for x in cv_scores]\n",
    "    optimal_alpha = nbrs_list[MSE.index(min(MSE))]\n",
    "    print('The optimal alpha is {:.4f} '.format(optimal_alpha))\n",
    "\n",
    "    xi = [i for i in range(0, len(nbrs_list))]\n",
    "    plt.plot(xi, MSE,marker='o', linestyle='--', color='r', label='Square')\n",
    "\n",
    "    for xy in zip(xi, np.round(MSE,3)):\n",
    "        plt.annotate('(%s, %s)' % xy, xy=xy, textcoords='data')\n",
    "\n",
    "    \n",
    "    plt.xlabel('Alpha Value')\n",
    "    plt.ylabel('Misclassification Error')\n",
    "    plt.xticks(xi, nbrs_list)\n",
    "    \n",
    "    plt.show()\n",
    "\n",
    "    print(\"\\n\\nThe misclassification error for each alpha value is : \", np.round(MSE,3))\n",
    "\n",
    "    NB_optimal = MultinomialNB(alpha=optimal_alpha)\n",
    "\n",
    "# fitting the model on test data\n",
    "    NB_optimal.fit(X_train, y_train)\n",
    "\n",
    "# predict the response\n",
    "    pred = NB_optimal.predict(X_test)\n",
    "    f1=f1_score(y_pred=pred,y_true=y_test,pos_label='Positive')\n",
    "    score=f1*100\n",
    "    print (\"\\n\\nF-1 Scores on test data on optimal alpha is  {:.4f} %\\n\\n\".format(f1*100))\n",
    "    \n",
    "# Adding enteries to summary table\n",
    "\n",
    "    table.add_row([method,'MultinomialNB',optimal_alpha,score])\n",
    "\n",
    "# evaluate accuracy\n",
    "\n",
    "    cnf_mtrx=confusion_matrix(y_true=y_test, y_pred=pred, labels=None, sample_weight=None)\n",
    "#    print(cnf_mtrx)\n",
    "# Heatmap to display\n",
    "    sns.heatmap(cnf_mtrx,annot=True,cmap='Blues', fmt='g')\n",
    "    print (classification_report(y_cv, pred))\n",
    "    return optimal_alpha,score,NB_optimal\n",
    "\n",
    "    "
   ]
  },
  {
   "cell_type": "code",
   "execution_count": 34,
   "metadata": {
    "collapsed": true
   },
   "outputs": [],
   "source": [
    "#function to display most important features for labels \n",
    "\n",
    "#def show_most_informative_features(vectorizer, model, n=10):\n",
    "#    feature_names = vectorizer.get_feature_names()\n",
    "#    coefs_with_fns = sorted(zip(model.coef_[0], feature_names))\n",
    "#    top = zip(coefs_with_fns[:n], coefs_with_fns[:-(n + 1):-1])\n",
    "#    print(\"Positive\\t\\t\\t\\t\\t\\tNegative\")\n",
    "#    print(\"________________________________________________________________________________________________\")\n",
    "#    for (coef_1, fn_1), (coef_2, fn_2) in top:\n",
    "#        print(\"\\t%.4f\\t%-15s\\t\\t\\t\\t%.4f\\t%-15s\" % (coef_1, fn_1, coef_2, fn_2))"
   ]
  },
  {
   "cell_type": "markdown",
   "metadata": {},
   "source": [
    "## Applying Multinomial Naive Bayes on BOW"
   ]
  },
  {
   "cell_type": "code",
   "execution_count": 38,
   "metadata": {},
   "outputs": [
    {
     "name": "stdout",
     "output_type": "stream",
     "text": [
      "\n",
      "For alpha = 0.0001\n",
      "\n",
      "model accuracy is 83.9619  %\n",
      "\n",
      "For alpha = 0.0010\n",
      "\n",
      "model accuracy is 85.7943  %\n",
      "\n",
      "For alpha = 0.0100\n",
      "\n",
      "model accuracy is 87.7032  %\n",
      "\n",
      "For alpha = 0.1000\n",
      "\n",
      "model accuracy is 87.8034  %\n",
      "\n",
      "For alpha = 1.0000\n",
      "\n",
      "model accuracy is 77.0763  %\n",
      "\n",
      "For alpha = 10.0000\n",
      "\n",
      "model accuracy is 76.8719  %\n",
      "\n",
      "For alpha = 100.0000\n",
      "\n",
      "model accuracy is 76.8719  %\n",
      "The optimal alpha is 0.1000 \n"
     ]
    },
    {
     "data": {
      "image/png": "[encoded data removed]",
      "text/plain": [
       "<matplotlib.figure.Figure at 0x178d2180278>"
      ]
     },
     "metadata": {},
     "output_type": "display_data"
    },
    {
     "name": "stdout",
     "output_type": "stream",
     "text": [
      "\n",
      "\n",
      "The misclassification error for each alpha value is :  [0.16  0.142 0.123 0.122 0.229 0.231 0.231]\n",
      "\n",
      "\n",
      "F-1 Scores on test data on optimal alpha is  94.6541 %\n",
      "\n",
      "\n",
      "             precision    recall  f1-score   support\n",
      "\n",
      "   Negative       0.17      0.13      0.14      3175\n",
      "   Positive       0.84      0.89      0.86     16825\n",
      "\n",
      "avg / total       0.74      0.77      0.75     20000\n",
      "\n"
     ]
    },
    {
     "data": {
      "image/png": "[encoded data removed]",
      "text/plain": [
       "<matplotlib.figure.Figure at 0x178d5a532b0>"
      ]
     },
     "metadata": {},
     "output_type": "display_data"
    }
   ],
   "source": [
    "bow_opt_alpha,bow_tr_f1_score,Model=fit_and_val(bow_train,y_tr,bow_cv,y_cv,bow_test,y_test,\"BOW\")"
   ]
  },
  {
   "cell_type": "code",
   "execution_count": 52,
   "metadata": {},
   "outputs": [
    {
     "name": "stdout",
     "output_type": "stream",
     "text": [
      "\n",
      "-Top 20 positive-\n",
      "Coefficient     Word\n",
      "  -5.039145     like\n",
      "  -5.166778     tast\n",
      "  -5.307031     love\n",
      "  -5.323890     good\n",
      "  -5.344754   flavor\n",
      "  -5.415799    great\n",
      "  -5.440270      one\n",
      "  -5.453532      use\n",
      "  -5.484936  product\n",
      "  -5.541827      tri\n",
      "  -5.563480    coffe\n",
      "  -5.658947      tea\n",
      "  -5.724008      get\n",
      "  -5.735035     make\n",
      "  -5.739106     food\n",
      "  -5.966698    would\n",
      "  -6.020178      dog\n",
      "  -6.023674      eat\n",
      "  -6.038698      buy\n",
      "  -6.040879     time\n",
      "\n",
      "-Top 20 negative-\n",
      "Coefficient                Word\n",
      " -17.414669         zoji direct\n",
      " -17.414669          zoji thier\n",
      " -17.414669                zola\n",
      " -17.414669         zola samzon\n",
      " -17.414669         zone moment\n",
      " -17.414669          zone sorri\n",
      " -17.414669            zone wow\n",
      " -17.414669           zoo store\n",
      " -17.414669           zoom find\n",
      " -17.414669           zoom imag\n",
      " -17.414669         zoom matter\n",
      " -17.414669         zoom within\n",
      " -17.414669   zsweet erythritol\n",
      " -17.414669  zucchini asparagus\n",
      " -17.414669       zucchini plum\n",
      " -17.414669              zuchon\n",
      " -17.414669        zuchon littl\n",
      " -17.414669          zuke smell\n",
      " -17.414669                zupa\n",
      " -17.414669         zupa pathet\n"
     ]
    }
   ],
   "source": [
    "w = count_vector.get_feature_names()\n",
    "coef = Model.coef_.tolist()[0]\n",
    "coeff_df = pd.DataFrame({'Word' : w, 'Coefficient' : coef})\n",
    "coeff_df = coeff_df.sort_values(['Coefficient', 'Word'], ascending=[0, 1])\n",
    "print('')\n",
    "print('-Top 20 positive-')\n",
    "print(coeff_df.head(20).to_string(index=False))\n",
    "print('')\n",
    "print('-Top 20 negative-')        \n",
    "print(coeff_df.tail(20).to_string(index=False))\n",
    "\n",
    "\n",
    "#wordcloud=WordCloud(max_words=20,scale=3,background_color='white').generate(str(coeff_df.Word.tail(20)))\n",
    "\n",
    "#plt.imshow(wordcloud)\n",
    "#plt.axis('off')\n",
    "#print(wordcloud)"
   ]
  },
  {
   "cell_type": "markdown",
   "metadata": {},
   "source": [
    "\n",
    "\n",
    "\n",
    "\n",
    "### TF-IDF intialization and dimension creation"
   ]
  },
  {
   "cell_type": "code",
   "execution_count": 30,
   "metadata": {},
   "outputs": [
    {
     "name": "stdout",
     "output_type": "stream",
     "text": [
      "the type of count vectorizer  <class 'sklearn.feature_extraction.text.TfidfVectorizer'>\n"
     ]
    }
   ],
   "source": [
    "tf_idf_vect = TfidfVectorizer(ngram_range=(1,2))\n",
    "filtered_tf_idf = tf_idf_vect.fit(X_tr.CleanedText)\n",
    "print(\"the type of count vectorizer \",type(filtered_tf_idf))\n",
    "#print(\"the shape of out TF-IDF vectorizer \",filtered_tf_idf.get_shape())"
   ]
  },
  {
   "cell_type": "code",
   "execution_count": 31,
   "metadata": {
    "collapsed": true
   },
   "outputs": [],
   "source": [
    "\n",
    "tf_idf_train=tf_idf_vect.transform(X_tr.CleanedText)\n",
    "tf_idf_cv=tf_idf_vect.transform(X_cv.CleanedText)\n",
    "tf_idf_test=tf_idf_vect.transform(X_test.CleanedText)"
   ]
  },
  {
   "cell_type": "code",
   "execution_count": 32,
   "metadata": {},
   "outputs": [
    {
     "name": "stdout",
     "output_type": "stream",
     "text": [
      "(60000, 837824)\n",
      "(20000, 837824)\n",
      "(20000, 837824)\n"
     ]
    }
   ],
   "source": [
    "print(tf_idf_train.get_shape())\n",
    "print(tf_idf_cv.get_shape())\n",
    "print(tf_idf_test.get_shape())"
   ]
  },
  {
   "cell_type": "markdown",
   "metadata": {},
   "source": [
    "## Applying Naive Bayes on TF-IDF"
   ]
  },
  {
   "cell_type": "code",
   "execution_count": 53,
   "metadata": {
    "collapsed": true
   },
   "outputs": [],
   "source": [
    "# Creating summary table to store summary of models\n",
    "#summary_table = prettytable.PrettyTable([\"Method\",\"Optimam alpha\", \"F-1 Score\"])\n",
    "\n",
    "# defining fait method and validation methods \n",
    "def fit_and_val(X_train,y_train,X_cv,y_cv,X_test,y_test,method,table=summary_table):\n",
    "    \n",
    "#    nbrs_list=np.arange(0.05,.5,0.05)\n",
    "    nbrs_list=[0.0001,0.001,0.01,0.1,1,10,100]\n",
    "    cv_scores=[]\n",
    "# Fitting model\n",
    "    scorer=make_scorer(f1_score,average='weighted')\n",
    "\n",
    "    for Alpha in nbrs_list:\n",
    "        model=BernoulliNB(alpha=Alpha)\n",
    "        model.fit(X_train,y_train)\n",
    "        pred = model.predict(X_cv)\n",
    "#        f1_score(y_pred=pred,y_true=y_cv,pos_label='Positive')\n",
    "\n",
    "\n",
    "# validating model using CV method\n",
    "\n",
    "\n",
    "        scores=cross_val_score(estimator=model,X=X_cv,y=y_cv,cv=5,scoring=scorer)\n",
    "       \n",
    "        print(\"\\nFor alpha = {:.4f}\".format(Alpha))\n",
    "        print (\"\\nmodel accuracy is {:.4f}  %\".format(np.average(scores)*100))\n",
    "        cv_scores.append(np.average(scores))\n",
    "        \n",
    "#Picking optimal value of alha having minimum error\n",
    "\n",
    "\n",
    "    MSE = [1 - x for x in cv_scores]\n",
    "    optimal_alpha = nbrs_list[MSE.index(min(MSE))]\n",
    "    print('The optimal alpha is {:.4f} '.format(optimal_alpha))\n",
    "\n",
    "    xi = [i for i in range(0, len(nbrs_list))]\n",
    "    plt.plot(xi, MSE,marker='o', linestyle='--', color='b', label='Square')\n",
    "\n",
    "    for xy in zip(xi, np.round(MSE,3)):\n",
    "        plt.annotate('(%s, %s)' % xy, xy=xy, textcoords='data')\n",
    "\n",
    "    plt.xlabel('Alpha Value')\n",
    "    plt.ylabel('Misclassification Error')\n",
    "    plt.xticks(xi,nbrs_list)\n",
    "    plt.show()\n",
    "\n",
    "    print(\"\\n\\nThe misclassification error for each alpha value is : \", np.round(MSE,3))\n",
    "\n",
    "    NB_optimal = BernoulliNB(alpha=optimal_alpha)\n",
    "\n",
    "# fitting the model on test data\n",
    "    NB_optimal.fit(X_train, y_train)\n",
    "\n",
    "# predict the response\n",
    "    pred = NB_optimal.predict(X_test)\n",
    "    f1=f1_score(y_pred=pred,y_true=y_test,pos_label='Positive')\n",
    "    score=f1*100\n",
    "    print (\"\\n\\nF-1 Scores on test data on optimal alpha is  {:.4f} %\\n\\n\".format(f1*100))\n",
    "    \n",
    "# Adding enteries to summary table\n",
    "\n",
    "    table.add_row([method,'BernoulliNB',optimal_alpha,score])\n",
    "\n",
    "# evaluate accuracy\n",
    "\n",
    "    cnf_mtrx=confusion_matrix(y_true=y_test, y_pred=pred, labels=None, sample_weight=None)\n",
    "#    print(cnf_mtrx)\n",
    "# Heatmap to display\n",
    "    sns.heatmap(cnf_mtrx,annot=True,cmap='Blues', fmt='g')\n",
    "    print (classification_report(y_cv, pred))\n",
    "    return optimal_alpha,score,NB_optimal\n",
    "\n",
    "    "
   ]
  },
  {
   "cell_type": "code",
   "execution_count": 54,
   "metadata": {},
   "outputs": [
    {
     "name": "stdout",
     "output_type": "stream",
     "text": [
      "\n",
      "For alpha = 0.0001\n",
      "\n",
      "model accuracy is 83.7248  %\n",
      "\n",
      "For alpha = 0.0010\n",
      "\n",
      "model accuracy is 85.5982  %\n",
      "\n",
      "For alpha = 0.0100\n",
      "\n",
      "model accuracy is 87.7073  %\n",
      "\n",
      "For alpha = 0.1000\n",
      "\n",
      "model accuracy is 82.8241  %\n",
      "\n",
      "For alpha = 1.0000\n",
      "\n",
      "model accuracy is 76.9076  %\n",
      "\n",
      "For alpha = 10.0000\n",
      "\n",
      "model accuracy is 76.8719  %\n",
      "\n",
      "For alpha = 100.0000\n",
      "\n",
      "model accuracy is 76.8719  %\n",
      "The optimal alpha is 0.0100 \n"
     ]
    },
    {
     "data": {
      "image/png": "[encoded data removed]",
      "text/plain": [
       "<matplotlib.figure.Figure at 0x17881545748>"
      ]
     },
     "metadata": {},
     "output_type": "display_data"
    },
    {
     "name": "stdout",
     "output_type": "stream",
     "text": [
      "\n",
      "\n",
      "The misclassification error for each alpha value is :  [0.163 0.144 0.123 0.172 0.231 0.231 0.231]\n",
      "\n",
      "\n",
      "F-1 Scores on test data on optimal alpha is  93.9311 %\n",
      "\n",
      "\n",
      "             precision    recall  f1-score   support\n",
      "\n",
      "   Negative       0.18      0.08      0.11      3175\n",
      "   Positive       0.84      0.93      0.88     16825\n",
      "\n",
      "avg / total       0.74      0.79      0.76     20000\n",
      "\n"
     ]
    },
    {
     "data": {
      "image/png": "[encoded data removed]",
      "text/plain": [
       "<matplotlib.figure.Figure at 0x178e2eb36d8>"
      ]
     },
     "metadata": {},
     "output_type": "display_data"
    }
   ],
   "source": [
    "tf_idf_opt_alpha,tf_idf_test_f1_score,Model=fit_and_val(tf_idf_train,y_tr,tf_idf_cv,y_cv,tf_idf_test,y_test,\"TF-IDF\")"
   ]
  },
  {
   "cell_type": "code",
   "execution_count": 55,
   "metadata": {},
   "outputs": [
    {
     "name": "stdout",
     "output_type": "stream",
     "text": [
      "\n",
      "-Top 20 positive-\n",
      "Coefficient     Word\n",
      "  -1.146684     like\n",
      "  -1.221936     tast\n",
      "  -1.230764     love\n",
      "  -1.296809     good\n",
      "  -1.330148    great\n",
      "  -1.432382   flavor\n",
      "  -1.463227      one\n",
      "  -1.508920      tri\n",
      "  -1.537242  product\n",
      "  -1.541328      use\n",
      "  -1.677695      get\n",
      "  -1.691223     make\n",
      "  -1.903187    would\n",
      "  -1.906399      buy\n",
      "  -1.935091     time\n",
      "  -1.960943   realli\n",
      "  -1.977213   amazon\n",
      "  -2.018934    price\n",
      "  -2.021488     much\n",
      "  -2.038170     best\n",
      "\n",
      "-Top 20 negative-\n",
      "Coefficient                Word\n",
      " -15.428881         zoji direct\n",
      " -15.428881          zoji thier\n",
      " -15.428881                zola\n",
      " -15.428881         zola samzon\n",
      " -15.428881         zone moment\n",
      " -15.428881          zone sorri\n",
      " -15.428881            zone wow\n",
      " -15.428881           zoo store\n",
      " -15.428881           zoom find\n",
      " -15.428881           zoom imag\n",
      " -15.428881         zoom matter\n",
      " -15.428881         zoom within\n",
      " -15.428881   zsweet erythritol\n",
      " -15.428881  zucchini asparagus\n",
      " -15.428881       zucchini plum\n",
      " -15.428881              zuchon\n",
      " -15.428881        zuchon littl\n",
      " -15.428881          zuke smell\n",
      " -15.428881                zupa\n",
      " -15.428881         zupa pathet\n"
     ]
    }
   ],
   "source": [
    "w = tf_idf_vect.get_feature_names()\n",
    "coef = Model.coef_.tolist()[0]\n",
    "coeff_df = pd.DataFrame({'Word' : w, 'Coefficient' : coef})\n",
    "coeff_df = coeff_df.sort_values(['Coefficient', 'Word'], ascending=[0, 1])\n",
    "print('')\n",
    "print('-Top 20 positive-')\n",
    "print(coeff_df.head(20).to_string(index=False))\n",
    "print('')\n",
    "print('-Top 20 negative-')        \n",
    "print(coeff_df.tail(20).to_string(index=False))\n"
   ]
  },
  {
   "cell_type": "code",
   "execution_count": 93,
   "metadata": {},
   "outputs": [
    {
     "name": "stdout",
     "output_type": "stream",
     "text": [
      "+--------+---------------+---------------+-------------------+\n",
      "| Method |     Model     | Optimam alpha |     F-1 Score     |\n",
      "+--------+---------------+---------------+-------------------+\n",
      "|  BOW   | MultinomialNB |      0.1      | 94.65405154399814 |\n",
      "| TF-IDF |  BernoulliNB  |      0.01     | 93.93106963835632 |\n",
      "+--------+---------------+---------------+-------------------+\n"
     ]
    }
   ],
   "source": [
    "print(summary_table)"
   ]
  },
  {
   "cell_type": "markdown",
   "metadata": {},
   "source": [
    "## Conclusion:The multinomial Naive Bayes classifier is suitable for classification with discrete features (e.g., word counts for text classification). The multinomial distribution normally requires integer feature counts.MultinomailNB performmed better on Bag of Word technique as compared to TF-IDF, and predicted some good numbers of Negative class as well"
   ]
  },
  {
   "cell_type": "code",
   "execution_count": null,
   "metadata": {
    "collapsed": true
   },
   "outputs": [],
   "source": []
  }
 ],
 "metadata": {
  "kernelspec": {
   "display_name": "Python 3",
   "language": "python",
   "name": "python3"
  },
  "language_info": {
   "codemirror_mode": {
    "name": "ipython",
    "version": 3
   },
   "file_extension": ".py",
   "mimetype": "text/x-python",
   "name": "python",
   "nbconvert_exporter": "python",
   "pygments_lexer": "ipython3",
   "version": "3.6.3"
  }
 },
 "nbformat": 4,
 "nbformat_minor": 2
}
